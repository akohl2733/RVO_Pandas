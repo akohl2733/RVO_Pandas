{
 "cells": [
  {
   "cell_type": "code",
   "execution_count": 1,
   "id": "48871741-d00b-4946-83bb-bc9e5987dabf",
   "metadata": {},
   "outputs": [],
   "source": [
    "import pandas as pd\n",
    "import matplotlib.pyplot as plt"
   ]
  },
  {
   "cell_type": "code",
   "execution_count": 4,
   "id": "59f83a3e-740f-4b7a-a673-fb2ba8db2c27",
   "metadata": {},
   "outputs": [],
   "source": [
    "df = pd.read_excel('data/Jude_RVO.xlsx')"
   ]
  },
  {
   "cell_type": "code",
   "execution_count": 7,
   "id": "e2b2099b-3d3e-4c6f-a218-9299bef97fdd",
   "metadata": {},
   "outputs": [
    {
     "data": {
      "text/html": [
       "<div>\n",
       "<style scoped>\n",
       "    .dataframe tbody tr th:only-of-type {\n",
       "        vertical-align: middle;\n",
       "    }\n",
       "\n",
       "    .dataframe tbody tr th {\n",
       "        vertical-align: top;\n",
       "    }\n",
       "\n",
       "    .dataframe thead th {\n",
       "        text-align: right;\n",
       "    }\n",
       "</style>\n",
       "<table border=\"1\" class=\"dataframe\">\n",
       "  <thead>\n",
       "    <tr style=\"text-align: right;\">\n",
       "      <th></th>\n",
       "      <th>Building/Room</th>\n",
       "      <th>Title</th>\n",
       "      <th>Course/Reservation</th>\n",
       "      <th>Subject</th>\n",
       "      <th>Date</th>\n",
       "      <th>Day of Week</th>\n",
       "      <th>Start Time</th>\n",
       "      <th>End Time</th>\n",
       "      <th>Enrolled</th>\n",
       "      <th>Max Enroll</th>\n",
       "      <th>Avg Occu</th>\n",
       "      <th>Attend</th>\n",
       "      <th>Normal &gt; 50%</th>\n",
       "    </tr>\n",
       "  </thead>\n",
       "  <tbody>\n",
       "    <tr>\n",
       "      <th>657</th>\n",
       "      <td>Building A 3047</td>\n",
       "      <td>Setup - Open Partition</td>\n",
       "      <td>20221213-00005- Mtg: 1</td>\n",
       "      <td>Enrollment and Student Services</td>\n",
       "      <td>2023-01-08</td>\n",
       "      <td>Sunday</td>\n",
       "      <td>00:00:00</td>\n",
       "      <td>23:59:00</td>\n",
       "      <td>0</td>\n",
       "      <td>2</td>\n",
       "      <td>0.224401</td>\n",
       "      <td>0.0</td>\n",
       "      <td>Low</td>\n",
       "    </tr>\n",
       "    <tr>\n",
       "      <th>656</th>\n",
       "      <td>Building A 3047</td>\n",
       "      <td>Setup - Open Partition</td>\n",
       "      <td>20221213-00005- Mtg: 1</td>\n",
       "      <td>Enrollment and Student Services</td>\n",
       "      <td>2023-01-08</td>\n",
       "      <td>Sunday</td>\n",
       "      <td>00:00:00</td>\n",
       "      <td>23:59:00</td>\n",
       "      <td>0</td>\n",
       "      <td>2</td>\n",
       "      <td>0.224401</td>\n",
       "      <td>0.0</td>\n",
       "      <td>Low</td>\n",
       "    </tr>\n",
       "    <tr>\n",
       "      <th>655</th>\n",
       "      <td>Building A 3047</td>\n",
       "      <td>Setup - Open Partition</td>\n",
       "      <td>20221213-00005- Mtg: 1</td>\n",
       "      <td>Enrollment and Student Services</td>\n",
       "      <td>2023-01-08</td>\n",
       "      <td>Sunday</td>\n",
       "      <td>00:00:00</td>\n",
       "      <td>23:59:00</td>\n",
       "      <td>0</td>\n",
       "      <td>2</td>\n",
       "      <td>0.224401</td>\n",
       "      <td>0.0</td>\n",
       "      <td>Low</td>\n",
       "    </tr>\n",
       "    <tr>\n",
       "      <th>893</th>\n",
       "      <td>Building A 3047</td>\n",
       "      <td>Setup - Open Partition</td>\n",
       "      <td>20221213-00005- Mtg: 1</td>\n",
       "      <td>Enrollment and Student Services</td>\n",
       "      <td>2023-01-09</td>\n",
       "      <td>Monday</td>\n",
       "      <td>00:00:00</td>\n",
       "      <td>07:30:00</td>\n",
       "      <td>0</td>\n",
       "      <td>2</td>\n",
       "      <td>0.211514</td>\n",
       "      <td>0.0</td>\n",
       "      <td>Low</td>\n",
       "    </tr>\n",
       "    <tr>\n",
       "      <th>892</th>\n",
       "      <td>Building A 3047</td>\n",
       "      <td>Setup - Open Partition</td>\n",
       "      <td>20221213-00005- Mtg: 1</td>\n",
       "      <td>Enrollment and Student Services</td>\n",
       "      <td>2023-01-09</td>\n",
       "      <td>Monday</td>\n",
       "      <td>00:00:00</td>\n",
       "      <td>07:30:00</td>\n",
       "      <td>0</td>\n",
       "      <td>2</td>\n",
       "      <td>0.211514</td>\n",
       "      <td>0.0</td>\n",
       "      <td>Low</td>\n",
       "    </tr>\n",
       "  </tbody>\n",
       "</table>\n",
       "</div>"
      ],
      "text/plain": [
       "       Building/Room                   Title      Course/Reservation  \\\n",
       "657  Building A 3047  Setup - Open Partition  20221213-00005- Mtg: 1   \n",
       "656  Building A 3047  Setup - Open Partition  20221213-00005- Mtg: 1   \n",
       "655  Building A 3047  Setup - Open Partition  20221213-00005- Mtg: 1   \n",
       "893  Building A 3047  Setup - Open Partition  20221213-00005- Mtg: 1   \n",
       "892  Building A 3047  Setup - Open Partition  20221213-00005- Mtg: 1   \n",
       "\n",
       "                             Subject       Date Day of Week Start Time  \\\n",
       "657  Enrollment and Student Services 2023-01-08      Sunday   00:00:00   \n",
       "656  Enrollment and Student Services 2023-01-08      Sunday   00:00:00   \n",
       "655  Enrollment and Student Services 2023-01-08      Sunday   00:00:00   \n",
       "893  Enrollment and Student Services 2023-01-09      Monday   00:00:00   \n",
       "892  Enrollment and Student Services 2023-01-09      Monday   00:00:00   \n",
       "\n",
       "     End Time  Enrolled  Max Enroll  Avg Occu  Attend Normal > 50%  \n",
       "657  23:59:00         0           2  0.224401     0.0          Low  \n",
       "656  23:59:00         0           2  0.224401     0.0          Low  \n",
       "655  23:59:00         0           2  0.224401     0.0          Low  \n",
       "893  07:30:00         0           2  0.211514     0.0          Low  \n",
       "892  07:30:00         0           2  0.211514     0.0          Low  "
      ]
     },
     "execution_count": 7,
     "metadata": {},
     "output_type": "execute_result"
    }
   ],
   "source": [
    "df.sort_values('Start Time', ascending=True).head()"
   ]
  },
  {
   "cell_type": "code",
   "execution_count": 8,
   "id": "3e394d7a-53ab-4bf1-9e48-bdf2aa3b8fab",
   "metadata": {},
   "outputs": [],
   "source": [
    "df['Attend'] = df['Attend'].apply(lambda x: x * 100)"
   ]
  },
  {
   "cell_type": "code",
   "execution_count": 10,
   "id": "4a6743a5-68e8-4abe-b941-043409f39a72",
   "metadata": {},
   "outputs": [],
   "source": [
    "simple = df[['Title', 'Attend', 'Normal > 50%', 'Start Time']].set_index('Start Time').sort_values(['Start Time', 'Attend'], ascending=[True, False])"
   ]
  },
  {
   "cell_type": "code",
   "execution_count": 62,
   "id": "575eb72a-6d95-4714-94bd-fbc92ce1a43d",
   "metadata": {},
   "outputs": [],
   "source": [
    "time_grp = df.groupby(['Start Time'])\n",
    "df2 = time_grp['Attend'].mean()"
   ]
  },
  {
   "cell_type": "code",
   "execution_count": 60,
   "id": "bd197826-3863-4284-95f6-c7e91d79e211",
   "metadata": {},
   "outputs": [],
   "source": [
    "df['Start Time'] = df['Start Time'].astype(str)"
   ]
  },
  {
   "cell_type": "code",
   "execution_count": 67,
   "id": "ecff8e15-8f7c-49ef-b4f1-20658c2b326f",
   "metadata": {},
   "outputs": [],
   "source": [
    "filt = df['Start Time'] == '10:30:00'"
   ]
  },
  {
   "cell_type": "code",
   "execution_count": 75,
   "id": "721e1672-621f-451e-971e-7d2e0b1cfb8b",
   "metadata": {},
   "outputs": [],
   "source": [
    "above_100 = time_grp['Attend'].mean() >= 100.0"
   ]
  },
  {
   "cell_type": "code",
   "execution_count": 84,
   "id": "fbda91f2-ffd5-4ac1-af25-6ee320b49fbf",
   "metadata": {},
   "outputs": [
    {
     "data": {
      "text/plain": [
       "Start Time\n",
       "09:30:00    134.862693\n",
       "10:30:00    325.040152\n",
       "13:30:00    110.333142\n",
       "Name: Attend, dtype: float64"
      ]
     },
     "execution_count": 84,
     "metadata": {},
     "output_type": "execute_result"
    }
   ],
   "source": [
    "df2.loc[above_100]"
   ]
  },
  {
   "cell_type": "code",
   "execution_count": 87,
   "id": "29128c87-847a-46cc-8880-73400ba0c52b",
   "metadata": {},
   "outputs": [
    {
     "data": {
      "text/plain": [
       "<Axes: xlabel='Start Time'>"
      ]
     },
     "execution_count": 87,
     "metadata": {},
     "output_type": "execute_result"
    },
    {
     "data": {
      "image/png": "[encoded data removed]",
      "text/plain": [
       "<Figure size 640x480 with 1 Axes>"
      ]
     },
     "metadata": {},
     "output_type": "display_data"
    }
   ],
   "source": [
    "df2.plot.bar()"
   ]
  },
  {
   "cell_type": "code",
   "execution_count": null,
   "id": "f0acfac7-f7af-45a9-b6f7-7d7ffde72c2f",
   "metadata": {},
   "outputs": [],
   "source": []
  }
 ],
 "metadata": {
  "kernelspec": {
   "display_name": "Python 3 (ipykernel)",
   "language": "python",
   "name": "python3"
  },
  "language_info": {
   "codemirror_mode": {
    "name": "ipython",
    "version": 3
   },
   "file_extension": ".py",
   "mimetype": "text/x-python",
   "name": "python",
   "nbconvert_exporter": "python",
   "pygments_lexer": "ipython3",
   "version": "3.10.11"
  }
 },
 "nbformat": 4,
 "nbformat_minor": 5
}
