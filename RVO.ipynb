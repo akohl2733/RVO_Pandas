{
 "cells": [
  {
   "cell_type": "code",
   "execution_count": 1,
   "id": "f2d2529f-3dcc-48a1-914f-c93b10fbd696",
   "metadata": {},
   "outputs": [],
   "source": [
    "import pandas as pd\n",
    "import matplotlib.pyplot as plt"
   ]
  },
  {
   "cell_type": "code",
   "execution_count": 3,
   "id": "040f3b66-b06b-4e48-839b-3ca4fb1e4938",
   "metadata": {},
   "outputs": [],
   "source": [
    "df = pd.read_excel('data/RVO.xlsx')"
   ]
  },
  {
   "cell_type": "code",
   "execution_count": 7,
   "id": "f5dc1ecd-2b6d-47cd-99ec-4a67c9e08641",
   "metadata": {},
   "outputs": [
    {
     "data": {
      "text/html": [
       "<div>\n",
       "<style scoped>\n",
       "    .dataframe tbody tr th:only-of-type {\n",
       "        vertical-align: middle;\n",
       "    }\n",
       "\n",
       "    .dataframe tbody tr th {\n",
       "        vertical-align: top;\n",
       "    }\n",
       "\n",
       "    .dataframe thead th {\n",
       "        text-align: right;\n",
       "    }\n",
       "</style>\n",
       "<table border=\"1\" class=\"dataframe\">\n",
       "  <thead>\n",
       "    <tr style=\"text-align: right;\">\n",
       "      <th></th>\n",
       "      <th>Building/Room</th>\n",
       "      <th>Title</th>\n",
       "      <th>Course/Reservation</th>\n",
       "      <th>Subject</th>\n",
       "      <th>Date</th>\n",
       "      <th>Day of Week</th>\n",
       "      <th>Start Time</th>\n",
       "      <th>End Time</th>\n",
       "      <th>Enrolled</th>\n",
       "      <th>Max Enroll</th>\n",
       "      <th>Avg Occupancy</th>\n",
       "      <th>Attend</th>\n",
       "      <th>Normal &gt; 50%</th>\n",
       "    </tr>\n",
       "  </thead>\n",
       "  <tbody>\n",
       "    <tr>\n",
       "      <th>0</th>\n",
       "      <td>Building A 100</td>\n",
       "      <td>Calculus I</td>\n",
       "      <td>MATH 1000 A02</td>\n",
       "      <td>MATH</td>\n",
       "      <td>2023-01-04</td>\n",
       "      <td>Wednesday</td>\n",
       "      <td>09:00:00</td>\n",
       "      <td>10:10:00</td>\n",
       "      <td>16</td>\n",
       "      <td>25</td>\n",
       "      <td>0.625973</td>\n",
       "      <td>0.039123</td>\n",
       "      <td>Low</td>\n",
       "    </tr>\n",
       "    <tr>\n",
       "      <th>21</th>\n",
       "      <td>Building A 121</td>\n",
       "      <td>Principles of Wellness</td>\n",
       "      <td>BSHN 5050 F76</td>\n",
       "      <td>BSHN</td>\n",
       "      <td>2023-01-04</td>\n",
       "      <td>Wednesday</td>\n",
       "      <td>09:00:00</td>\n",
       "      <td>09:50:00</td>\n",
       "      <td>27</td>\n",
       "      <td>30</td>\n",
       "      <td>21.350961</td>\n",
       "      <td>0.790776</td>\n",
       "      <td>Normal</td>\n",
       "    </tr>\n",
       "    <tr>\n",
       "      <th>7</th>\n",
       "      <td>Building A 107</td>\n",
       "      <td>Methods of Teaching Sec Read</td>\n",
       "      <td>EDU 9000 D23</td>\n",
       "      <td>SECE</td>\n",
       "      <td>2023-01-04</td>\n",
       "      <td>Wednesday</td>\n",
       "      <td>09:00:00</td>\n",
       "      <td>09:50:00</td>\n",
       "      <td>15</td>\n",
       "      <td>18</td>\n",
       "      <td>8.273147</td>\n",
       "      <td>0.551543</td>\n",
       "      <td>Normal</td>\n",
       "    </tr>\n",
       "    <tr>\n",
       "      <th>25</th>\n",
       "      <td>Building A 125</td>\n",
       "      <td>Environment and Occ Health</td>\n",
       "      <td>PUBH 3490 G01</td>\n",
       "      <td>BPH</td>\n",
       "      <td>2023-01-04</td>\n",
       "      <td>Wednesday</td>\n",
       "      <td>09:00:00</td>\n",
       "      <td>09:50:00</td>\n",
       "      <td>17</td>\n",
       "      <td>30</td>\n",
       "      <td>21.670459</td>\n",
       "      <td>1.274733</td>\n",
       "      <td>High</td>\n",
       "    </tr>\n",
       "    <tr>\n",
       "      <th>2</th>\n",
       "      <td>Building A 102</td>\n",
       "      <td>Anatomy and Physiology II/Lab</td>\n",
       "      <td>BIOL 3000 D01</td>\n",
       "      <td>BIOL</td>\n",
       "      <td>2023-01-04</td>\n",
       "      <td>Wednesday</td>\n",
       "      <td>09:00:00</td>\n",
       "      <td>09:50:00</td>\n",
       "      <td>17</td>\n",
       "      <td>18</td>\n",
       "      <td>13.332544</td>\n",
       "      <td>0.784267</td>\n",
       "      <td>Normal</td>\n",
       "    </tr>\n",
       "  </tbody>\n",
       "</table>\n",
       "</div>"
      ],
      "text/plain": [
       "     Building/Room                          Title Course/Reservation Subject  \\\n",
       "0   Building A 100                     Calculus I      MATH 1000 A02    MATH   \n",
       "21  Building A 121         Principles of Wellness      BSHN 5050 F76    BSHN   \n",
       "7   Building A 107   Methods of Teaching Sec Read       EDU 9000 D23    SECE   \n",
       "25  Building A 125     Environment and Occ Health      PUBH 3490 G01     BPH   \n",
       "2   Building A 102  Anatomy and Physiology II/Lab      BIOL 3000 D01    BIOL   \n",
       "\n",
       "         Date Day of Week Start Time  End Time  Enrolled  Max Enroll  \\\n",
       "0  2023-01-04   Wednesday   09:00:00  10:10:00        16          25   \n",
       "21 2023-01-04   Wednesday   09:00:00  09:50:00        27          30   \n",
       "7  2023-01-04   Wednesday   09:00:00  09:50:00        15          18   \n",
       "25 2023-01-04   Wednesday   09:00:00  09:50:00        17          30   \n",
       "2  2023-01-04   Wednesday   09:00:00  09:50:00        17          18   \n",
       "\n",
       "    Avg Occupancy    Attend Normal > 50%  \n",
       "0        0.625973  0.039123          Low  \n",
       "21      21.350961  0.790776       Normal  \n",
       "7        8.273147  0.551543       Normal  \n",
       "25      21.670459  1.274733         High  \n",
       "2       13.332544  0.784267       Normal  "
      ]
     },
     "execution_count": 7,
     "metadata": {},
     "output_type": "execute_result"
    }
   ],
   "source": [
    "df.sort_values('Start Time', ascending=True).head()"
   ]
  },
  {
   "cell_type": "code",
   "execution_count": 35,
   "id": "b3598aaf-9e30-4f2d-922a-197c4bb21b5d",
   "metadata": {},
   "outputs": [
    {
     "data": {
      "text/plain": [
       "Enrolled           5\n",
       "Average     8.276779\n",
       "Attend      1.655356\n",
       "Name: 17, dtype: object"
      ]
     },
     "execution_count": 35,
     "metadata": {},
     "output_type": "execute_result"
    }
   ],
   "source": [
    "df.loc[17, ['Enrolled', 'Average', 'Attend']]"
   ]
  },
  {
   "cell_type": "code",
   "execution_count": 36,
   "id": "2a15335b-3a91-4f1b-b0af-3d96400f6fb6",
   "metadata": {},
   "outputs": [
    {
     "data": {
      "text/plain": [
       "Building/Room                 Building A 100\n",
       "Title                 Advising Staff Meeting\n",
       "Course/Reservation             BIOL 3000 D01\n",
       "Subject                                 BIOL\n",
       "Date                     2023-01-04 00:00:00\n",
       "Day of Week                        Wednesday\n",
       "Start Time                          09:00:00\n",
       "End Time                            09:50:00\n",
       "Enrolled                                   0\n",
       "Max Enroll                                 0\n",
       "Average                             0.419917\n",
       "Attend                                   0.0\n",
       "Level                                   High\n",
       "dtype: object"
      ]
     },
     "execution_count": 36,
     "metadata": {},
     "output_type": "execute_result"
    }
   ],
   "source": [
    "df.apply(pd.Series.min)"
   ]
  },
  {
   "cell_type": "code",
   "execution_count": 51,
   "id": "0ef25a38-efab-4876-95b1-0e5461d0e9a0",
   "metadata": {},
   "outputs": [
    {
     "data": {
      "text/plain": [
       "Start Time\n",
       "11:00:00    3\n",
       "10:00:00    3\n",
       "09:00:00    1\n",
       "Name: count, dtype: int64"
      ]
     },
     "execution_count": 51,
     "metadata": {},
     "output_type": "execute_result"
    }
   ],
   "source": [
    "filt = df['Level'] == 'High'\n",
    "df_h = df[filt]\n",
    "df_h['Start Time'].value_counts()"
   ]
  },
  {
   "cell_type": "code",
   "execution_count": 35,
   "id": "dcaa444c-bc8a-4216-ae6f-af44c752042b",
   "metadata": {},
   "outputs": [],
   "source": [
    "df['Attend'] = df['Attend'].apply(lambda x: x * 100)"
   ]
  },
  {
   "cell_type": "code",
   "execution_count": 36,
   "id": "1f0e9d35-156a-4ca0-bbb0-f1e3891f1c8a",
   "metadata": {},
   "outputs": [],
   "source": [
    "simple = df[['Title', 'Attend', 'Normal > 50%', 'Start Time']].set_index('Start Time').sort_values(['Start Time', 'Attend'], ascending=[True, False])"
   ]
  },
  {
   "cell_type": "code",
   "execution_count": 37,
   "id": "a6c5a9a3-2791-430a-91aa-582ae1140213",
   "metadata": {},
   "outputs": [
    {
     "data": {
      "text/html": [
       "<div>\n",
       "<style scoped>\n",
       "    .dataframe tbody tr th:only-of-type {\n",
       "        vertical-align: middle;\n",
       "    }\n",
       "\n",
       "    .dataframe tbody tr th {\n",
       "        vertical-align: top;\n",
       "    }\n",
       "\n",
       "    .dataframe thead th {\n",
       "        text-align: right;\n",
       "    }\n",
       "</style>\n",
       "<table border=\"1\" class=\"dataframe\">\n",
       "  <thead>\n",
       "    <tr style=\"text-align: right;\">\n",
       "      <th></th>\n",
       "      <th>Title</th>\n",
       "      <th>Attend</th>\n",
       "      <th>Normal &gt; 50%</th>\n",
       "    </tr>\n",
       "    <tr>\n",
       "      <th>Start Time</th>\n",
       "      <th></th>\n",
       "      <th></th>\n",
       "      <th></th>\n",
       "    </tr>\n",
       "  </thead>\n",
       "  <tbody>\n",
       "    <tr>\n",
       "      <th>09:00:00</th>\n",
       "      <td>Environment and Occ Health</td>\n",
       "      <td>127.473291</td>\n",
       "      <td>High</td>\n",
       "    </tr>\n",
       "    <tr>\n",
       "      <th>09:00:00</th>\n",
       "      <td>Principles of Wellness</td>\n",
       "      <td>79.077635</td>\n",
       "      <td>Normal</td>\n",
       "    </tr>\n",
       "    <tr>\n",
       "      <th>09:00:00</th>\n",
       "      <td>Anatomy and Physiology II/Lab</td>\n",
       "      <td>78.426729</td>\n",
       "      <td>Normal</td>\n",
       "    </tr>\n",
       "    <tr>\n",
       "      <th>09:00:00</th>\n",
       "      <td>Methods of Teaching Sec Read</td>\n",
       "      <td>55.154311</td>\n",
       "      <td>Normal</td>\n",
       "    </tr>\n",
       "    <tr>\n",
       "      <th>09:00:00</th>\n",
       "      <td>Calculus I</td>\n",
       "      <td>3.912330</td>\n",
       "      <td>Low</td>\n",
       "    </tr>\n",
       "    <tr>\n",
       "      <th>10:00:00</th>\n",
       "      <td>Coaching Diverse Populations</td>\n",
       "      <td>165.535578</td>\n",
       "      <td>High</td>\n",
       "    </tr>\n",
       "    <tr>\n",
       "      <th>10:00:00</th>\n",
       "      <td>Introduction to Global Health</td>\n",
       "      <td>111.551945</td>\n",
       "      <td>High</td>\n",
       "    </tr>\n",
       "    <tr>\n",
       "      <th>10:00:00</th>\n",
       "      <td>Latino Identities</td>\n",
       "      <td>103.290542</td>\n",
       "      <td>High</td>\n",
       "    </tr>\n",
       "    <tr>\n",
       "      <th>10:00:00</th>\n",
       "      <td>Community Health</td>\n",
       "      <td>77.469584</td>\n",
       "      <td>Normal</td>\n",
       "    </tr>\n",
       "    <tr>\n",
       "      <th>10:00:00</th>\n",
       "      <td>Advising Staff Meeting</td>\n",
       "      <td>0.000000</td>\n",
       "      <td>Low</td>\n",
       "    </tr>\n",
       "    <tr>\n",
       "      <th>11:00:00</th>\n",
       "      <td>Careers in Nutrition</td>\n",
       "      <td>106.557385</td>\n",
       "      <td>High</td>\n",
       "    </tr>\n",
       "    <tr>\n",
       "      <th>11:00:00</th>\n",
       "      <td>Community Health</td>\n",
       "      <td>103.744847</td>\n",
       "      <td>High</td>\n",
       "    </tr>\n",
       "    <tr>\n",
       "      <th>11:00:00</th>\n",
       "      <td>Introduction to PH Research</td>\n",
       "      <td>102.798231</td>\n",
       "      <td>High</td>\n",
       "    </tr>\n",
       "    <tr>\n",
       "      <th>11:00:00</th>\n",
       "      <td>Foundations of Public Health</td>\n",
       "      <td>63.972624</td>\n",
       "      <td>Normal</td>\n",
       "    </tr>\n",
       "    <tr>\n",
       "      <th>11:00:00</th>\n",
       "      <td>Introductory Linear Algebra</td>\n",
       "      <td>44.096173</td>\n",
       "      <td>Low</td>\n",
       "    </tr>\n",
       "    <tr>\n",
       "      <th>13:00:00</th>\n",
       "      <td>Concepts in Epidemiology</td>\n",
       "      <td>99.963914</td>\n",
       "      <td>Normal</td>\n",
       "    </tr>\n",
       "    <tr>\n",
       "      <th>13:00:00</th>\n",
       "      <td>Principles of Health Behavior</td>\n",
       "      <td>91.271482</td>\n",
       "      <td>Normal</td>\n",
       "    </tr>\n",
       "    <tr>\n",
       "      <th>13:00:00</th>\n",
       "      <td>Intro to Food Serv System</td>\n",
       "      <td>79.607843</td>\n",
       "      <td>Normal</td>\n",
       "    </tr>\n",
       "    <tr>\n",
       "      <th>13:00:00</th>\n",
       "      <td>Human System &amp; Fam Relations</td>\n",
       "      <td>75.371067</td>\n",
       "      <td>Normal</td>\n",
       "    </tr>\n",
       "    <tr>\n",
       "      <th>13:00:00</th>\n",
       "      <td>Public Health Leadership/Manag</td>\n",
       "      <td>56.496696</td>\n",
       "      <td>Normal</td>\n",
       "    </tr>\n",
       "    <tr>\n",
       "      <th>14:00:00</th>\n",
       "      <td>Introduction to Global Health</td>\n",
       "      <td>75.129600</td>\n",
       "      <td>Normal</td>\n",
       "    </tr>\n",
       "    <tr>\n",
       "      <th>15:00:00</th>\n",
       "      <td>Intro to Bus, Anly. &amp; Dec. Mkg</td>\n",
       "      <td>29.109261</td>\n",
       "      <td>Low</td>\n",
       "    </tr>\n",
       "    <tr>\n",
       "      <th>15:00:00</th>\n",
       "      <td>Essentials of Public Hth Plan</td>\n",
       "      <td>2.799446</td>\n",
       "      <td>Low</td>\n",
       "    </tr>\n",
       "    <tr>\n",
       "      <th>16:00:00</th>\n",
       "      <td>Methods of Teaching Sec Read</td>\n",
       "      <td>83.966552</td>\n",
       "      <td>Normal</td>\n",
       "    </tr>\n",
       "    <tr>\n",
       "      <th>18:00:00</th>\n",
       "      <td>Overview US Health Care System</td>\n",
       "      <td>55.233292</td>\n",
       "      <td>Normal</td>\n",
       "    </tr>\n",
       "    <tr>\n",
       "      <th>18:00:00</th>\n",
       "      <td>Web Services &amp; Systems</td>\n",
       "      <td>26.922009</td>\n",
       "      <td>Low</td>\n",
       "    </tr>\n",
       "  </tbody>\n",
       "</table>\n",
       "</div>"
      ],
      "text/plain": [
       "                                     Title      Attend Normal > 50%\n",
       "Start Time                                                         \n",
       "09:00:00        Environment and Occ Health  127.473291         High\n",
       "09:00:00            Principles of Wellness   79.077635       Normal\n",
       "09:00:00     Anatomy and Physiology II/Lab   78.426729       Normal\n",
       "09:00:00      Methods of Teaching Sec Read   55.154311       Normal\n",
       "09:00:00                        Calculus I    3.912330          Low\n",
       "10:00:00      Coaching Diverse Populations  165.535578         High\n",
       "10:00:00     Introduction to Global Health  111.551945         High\n",
       "10:00:00                 Latino Identities  103.290542         High\n",
       "10:00:00                  Community Health   77.469584       Normal\n",
       "10:00:00            Advising Staff Meeting    0.000000          Low\n",
       "11:00:00              Careers in Nutrition  106.557385         High\n",
       "11:00:00                  Community Health  103.744847         High\n",
       "11:00:00       Introduction to PH Research  102.798231         High\n",
       "11:00:00      Foundations of Public Health   63.972624       Normal\n",
       "11:00:00       Introductory Linear Algebra   44.096173          Low\n",
       "13:00:00          Concepts in Epidemiology   99.963914       Normal\n",
       "13:00:00     Principles of Health Behavior   91.271482       Normal\n",
       "13:00:00         Intro to Food Serv System   79.607843       Normal\n",
       "13:00:00      Human System & Fam Relations   75.371067       Normal\n",
       "13:00:00    Public Health Leadership/Manag   56.496696       Normal\n",
       "14:00:00     Introduction to Global Health   75.129600       Normal\n",
       "15:00:00    Intro to Bus, Anly. & Dec. Mkg   29.109261          Low\n",
       "15:00:00     Essentials of Public Hth Plan    2.799446          Low\n",
       "16:00:00      Methods of Teaching Sec Read   83.966552       Normal\n",
       "18:00:00    Overview US Health Care System   55.233292       Normal\n",
       "18:00:00            Web Services & Systems   26.922009          Low"
      ]
     },
     "execution_count": 37,
     "metadata": {},
     "output_type": "execute_result"
    }
   ],
   "source": [
    "simple"
   ]
  },
  {
   "cell_type": "code",
   "execution_count": 63,
   "id": "1401c8f9-b24a-4549-ae8f-25b764c8a09f",
   "metadata": {},
   "outputs": [],
   "source": [
    "# In [7]: df = pd.DataFrame(np.random.randn(1000, 4), index=ts.index, columns=list(\"ABCD\"))\n",
    "# In [8]: df = df.cumsum()\n",
    "# In [9]: plt.figure();\n",
    "# In [10]: df.plot();"
   ]
  },
  {
   "cell_type": "code",
   "execution_count": 52,
   "id": "b231f1aa-bcdd-4dd6-bbea-493b8d293da7",
   "metadata": {},
   "outputs": [],
   "source": [
    "time_grp = df.groupby(['Start Time'])"
   ]
  },
  {
   "cell_type": "code",
   "execution_count": 61,
   "id": "6f76e4b5-8d54-49a9-9713-4068ac97a0d7",
   "metadata": {},
   "outputs": [],
   "source": [
    "df2 = time_grp['Attend'].mean()"
   ]
  },
  {
   "cell_type": "code",
   "execution_count": 64,
   "id": "2222b284-2c8b-4324-89f4-a0bc25658b5c",
   "metadata": {},
   "outputs": [
    {
     "data": {
      "text/plain": [
       "<Axes: xlabel='Start Time'>"
      ]
     },
     "execution_count": 64,
     "metadata": {},
     "output_type": "execute_result"
    },
    {
     "data": {
      "image/png": "[encoded data removed]",
      "text/plain": [
       "<Figure size 640x480 with 1 Axes>"
      ]
     },
     "metadata": {},
     "output_type": "display_data"
    }
   ],
   "source": [
    "df2.plot.bar()"
   ]
  },
  {
   "cell_type": "code",
   "execution_count": null,
   "id": "7c48bead-b264-442f-83e8-180b16d00524",
   "metadata": {},
   "outputs": [],
   "source": []
  }
 ],
 "metadata": {
  "kernelspec": {
   "display_name": "Python 3 (ipykernel)",
   "language": "python",
   "name": "python3"
  },
  "language_info": {
   "codemirror_mode": {
    "name": "ipython",
    "version": 3
   },
   "file_extension": ".py",
   "mimetype": "text/x-python",
   "name": "python",
   "nbconvert_exporter": "python",
   "pygments_lexer": "ipython3",
   "version": "3.10.11"
  }
 },
 "nbformat": 4,
 "nbformat_minor": 5
}
